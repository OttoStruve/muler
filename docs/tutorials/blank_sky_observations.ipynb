{
 "cells": [
  {
   "cell_type": "markdown",
   "id": "c3178c23",
   "metadata": {},
   "source": [
    "## HPF Observations of completely blank sky\n",
    "\n",
    "In [a previous notebook](https://muler.readthedocs.io/en/latest/tutorials/refined_sky_subtraction.html) we illustrated how to refine HPF sky subtraction based on calibrated twilight flats.  Here we acquire novel calibration data of completely blank sky to measure the ratio between sky lines without the vagueries of pesky continuum."
   ]
  },
  {
   "cell_type": "code",
   "execution_count": null,
   "id": "18d434f2",
   "metadata": {},
   "outputs": [],
   "source": [
    "from muler.hpf import HPFSpectrum, HPFSpectrumList\n",
    "\n",
    "import matplotlib.pyplot as plt\n",
    "%config InlineBackend.figure_format='retina'\n",
    "plt.rcParams['axes.facecolor']='white'\n",
    "plt.rcParams['savefig.facecolor']='white'"
   ]
  },
  {
   "cell_type": "markdown",
   "id": "fb17ef16",
   "metadata": {},
   "source": [
    "You can retrieve these data from the [muler example data GitHub site](https://github.com/OttoStruve/muler_example_data).  There are ten examples online, let's just look at one of those."
   ]
  },
  {
   "cell_type": "code",
   "execution_count": null,
   "id": "b8da2783",
   "metadata": {},
   "outputs": [],
   "source": [
    "online_path = 'https://github.com/OttoStruve/muler_example_data/raw/main/HPF/02_blank_sky/'\n",
    "filename = 'Goldilocks_20210825T052211_v1.0_0021.spectra.fits'\n",
    "spectra = HPFSpectrumList.read(online_path+filename)"
   ]
  },
  {
   "cell_type": "code",
   "execution_count": null,
   "id": "977f3eb7",
   "metadata": {},
   "outputs": [],
   "source": [
    "spectra.plot(ylo=0, yhi=100);"
   ]
  },
  {
   "cell_type": "markdown",
   "id": "3879203a",
   "metadata": {},
   "source": [
    "Neat, we see sky emission lines across the spectrum.  Let's take a look up close:"
   ]
  },
  {
   "cell_type": "code",
   "execution_count": null,
   "id": "dcc45a21",
   "metadata": {},
   "outputs": [],
   "source": [
    "spectrum = spectra[19]"
   ]
  },
  {
   "cell_type": "code",
   "execution_count": null,
   "id": "6e3dc73c",
   "metadata": {},
   "outputs": [],
   "source": [
    "ax= spectrum.sky.plot(ylo=-5, yhi=100, label='Sky Fiber');\n",
    "spectrum.plot(ax=ax, label='Target Fiber');\n",
    "ax.legend();"
   ]
  },
  {
   "cell_type": "markdown",
   "id": "e62a4a56",
   "metadata": {},
   "source": [
    "Neat! We see slight differences between the two fibers.  Let's drill down even more to see how the different sky-subtraction methods perform:"
   ]
  },
  {
   "cell_type": "code",
   "execution_count": null,
   "id": "4e571b49",
   "metadata": {},
   "outputs": [],
   "source": [
    "ax = spectrum.plot(label='Science Fiber');\n",
    "for method in ['naive', 'scalar', 'vector']:\n",
    "    spectrum.sky_subtract(method=method).plot(ax=ax, label=method);\n",
    "    \n",
    "ax.set_xlim(10_830, 10_840)\n",
    "ax.set_ylim(-10, 60)\n",
    "ax.legend();"
   ]
  },
  {
   "cell_type": "markdown",
   "id": "e8774b67",
   "metadata": {},
   "source": [
    "Indeed the naive approach (orange) over-subtracts, leaving a conspicuous dip.  The scalar and vector corrections both work fine!"
   ]
  },
  {
   "cell_type": "markdown",
   "id": "2945740b",
   "metadata": {},
   "source": [
    "### Compute the Science-to-sky fiber ratio over the entire HPF bandpass\n",
    "\n",
    "Let's look at all the high signal-to-noise ratio sky emission lines--- do they have the same ratios?"
   ]
  },
  {
   "cell_type": "code",
   "execution_count": null,
   "id": "3d07d188",
   "metadata": {},
   "outputs": [],
   "source": [
    "import numpy as np\n",
    "from specutils.manipulation import LinearInterpolatedResampler, SplineInterpolatedResampler\n",
    "resampler = SplineInterpolatedResampler()"
   ]
  },
  {
   "cell_type": "code",
   "execution_count": null,
   "id": "a3880562",
   "metadata": {},
   "outputs": [],
   "source": [
    "twilight_ratio_raw = spectrum.get_static_sky_ratio_template()"
   ]
  },
  {
   "cell_type": "code",
   "execution_count": null,
   "id": "60f8a60e",
   "metadata": {},
   "outputs": [],
   "source": [
    "full_science = spectra.stitch()"
   ]
  },
  {
   "cell_type": "markdown",
   "id": "df101d13",
   "metadata": {},
   "source": [
    "Let's resample the sky spectrum to the exact wavelength coordinates as the science spectrum."
   ]
  },
  {
   "cell_type": "code",
   "execution_count": null,
   "id": "fd206e02",
   "metadata": {},
   "outputs": [],
   "source": [
    "resampled_sky_spectrum = resampler(full_science.sky, full_science.wavelength)\n",
    "resampled_sky_spectrum = HPFSpectrum(spectral_axis=resampled_sky_spectrum.wavelength, \n",
    "                                    flux=resampled_sky_spectrum.flux,\n",
    "                                    uncertainty=resampled_sky_spectrum.uncertainty)"
   ]
  },
  {
   "cell_type": "code",
   "execution_count": null,
   "id": "e0a9b550",
   "metadata": {},
   "outputs": [],
   "source": [
    "full_sky = resampled_sky_spectrum.flux"
   ]
  },
  {
   "cell_type": "code",
   "execution_count": null,
   "id": "44b97646",
   "metadata": {},
   "outputs": [],
   "source": [
    "full_snr = resampled_sky_spectrum.snr"
   ]
  },
  {
   "cell_type": "markdown",
   "id": "281df28e",
   "metadata": {},
   "source": [
    "Let's just pick the very high SNR pixels."
   ]
  },
  {
   "cell_type": "code",
   "execution_count": null,
   "id": "9d2e8e87",
   "metadata": {},
   "outputs": [],
   "source": [
    "full_mask = full_snr.value > 40"
   ]
  },
  {
   "cell_type": "code",
   "execution_count": null,
   "id": "dd4f1b2b",
   "metadata": {},
   "outputs": [],
   "source": [
    "ax = resampled_sky_spectrum.plot(yhi=110);\n",
    "(resampled_sky_spectrum*full_mask).plot(ax=ax);\n",
    "ax.set_ylabel('Signal-to-noise ratio (per pixel)');"
   ]
  },
  {
   "cell_type": "markdown",
   "id": "34df8a54",
   "metadata": {},
   "source": [
    "Looks good, we are focusing on the highest-SNR emission lines."
   ]
  },
  {
   "cell_type": "code",
   "execution_count": null,
   "id": "f744d9cc",
   "metadata": {},
   "outputs": [],
   "source": [
    "full_ratio = full_science.divide(resampled_sky_spectrum, handle_meta='ff').multiply(full_mask*full_science.flux.unit)"
   ]
  },
  {
   "cell_type": "code",
   "execution_count": null,
   "id": "2ecb7b16",
   "metadata": {},
   "outputs": [],
   "source": [
    "ax = full_ratio.plot(ylo=0.8, yhi=1.1, linestyle='none', marker='o', ms=3, alpha=0.8, label='Blank Night Sky')\n",
    "twilight_ratio_raw.plot(ax=ax, linestyle='none', marker='.', ms=1, label='Twilight Flats');\n",
    "\n",
    "ax.set_title('HPF Science Fiber to Sky Fiber Ratio')\n",
    "\n",
    "ax.axhline(1.0, linestyle='dotted', color='k')\n",
    "    \n",
    "ax.set_ylabel('Ratio')\n",
    "ax.set_ylim(0.8, 1.05)\n",
    "ax.legend();"
   ]
  },
  {
   "cell_type": "markdown",
   "id": "6d8a3bd3",
   "metadata": {},
   "source": [
    "Nice, we get about the same answer and trend using these data and the twilight flat data.  Se see a high amount of scatter, but comparable to the scatter seen in the twilight flats themeselves (not shown).  Overall the scatter must come in part from random noise, and possible some weak trends from genuine physics-- truly different atmospheric temperatures, airmasses, pressures, wind shears, etc. "
   ]
  },
  {
   "cell_type": "markdown",
   "id": "a93cdaba",
   "metadata": {},
   "source": [
    "### Deep dive: Do sky-free pixels show any other artifacts?"
   ]
  },
  {
   "cell_type": "markdown",
   "id": "3d43ef77",
   "metadata": {},
   "source": [
    "The background flux in most pixels is so close to zero that the denominator in the ratio has many near-zero values, sending the ratio spectrum to near-infinity. Here we compute the difference spectrum---scaled by the twilight flat vector---and divided by the Goldilocks-reported uncertainty vector. Most of the nominally empty pixels in the difference vector constructed in this way should have mean value of zero with a propagated $\\sigma$ of $\\sqrt{1^2 + 0.93^2}$. "
   ]
  },
  {
   "cell_type": "code",
   "execution_count": null,
   "id": "aeab05fa",
   "metadata": {},
   "outputs": [],
   "source": [
    "from scipy.stats import norm\n",
    "import celerite2\n",
    "from celerite2 import terms"
   ]
  },
  {
   "cell_type": "code",
   "execution_count": null,
   "id": "1a60c4c2",
   "metadata": {},
   "outputs": [],
   "source": [
    "full_twilight_ratio = resampler(twilight_ratio_raw, full_science.spectral_axis)"
   ]
  },
  {
   "cell_type": "markdown",
   "id": "e0b226a4",
   "metadata": {},
   "source": [
    "Compute the residual, and normalize by the uncertainty.\n",
    "\n",
    "$\\mathbf{r} = \\mathbf{f}_{\\star} - \\mathbf{\\beta} \\; \\odot \\mathbf{f}_{\\mathrm{sky}}$"
   ]
  },
  {
   "cell_type": "code",
   "execution_count": null,
   "id": "cd61c137",
   "metadata": {},
   "outputs": [],
   "source": [
    "residual = (full_science - full_twilight_ratio*full_sky)\n",
    "sigmas = np.hstack([spec.uncertainty.array for spec in spectra])\n",
    "residual_in_sigma = residual.flux.value/(np.hypot(1.0, 0.93)*sigmas)"
   ]
  },
  {
   "cell_type": "markdown",
   "id": "12e6009d",
   "metadata": {},
   "source": [
    "Smooth the residual spectrum with a Gaussian Process."
   ]
  },
  {
   "cell_type": "code",
   "execution_count": null,
   "id": "03b4bd8f",
   "metadata": {},
   "outputs": [],
   "source": [
    "mask = np.isfinite(residual_in_sigma)\n",
    "x = residual.wavelength.value[mask]\n",
    "y = residual_in_sigma[mask]\n",
    "N_pix = len(x)"
   ]
  },
  {
   "cell_type": "code",
   "execution_count": null,
   "id": "49a1a7bd",
   "metadata": {},
   "outputs": [],
   "source": [
    "kernel = terms.SHOTerm(sigma=0.8, rho=200.0, Q=0.25)\n",
    "\n",
    "gp = celerite2.GaussianProcess(kernel, mean=0.1)\n",
    "gp.compute(x, yerr=np.ones(N_pix))"
   ]
  },
  {
   "cell_type": "code",
   "execution_count": null,
   "id": "abb2acc8",
   "metadata": {},
   "outputs": [],
   "source": [
    "plt.figure(figsize=(15, 5))\n",
    "plt.plot(x, y, linestyle='none', marker='o', alpha=0.1, ms=3, color='#2980b9', label=None)\n",
    "plt.plot(x, y*0-999, linestyle='none', marker='o', alpha=1, ms=3, color='#2980b9', \n",
    "         label=r'Residual ($\\mathbf{f}_{\\star} - \\mathbf{\\beta} \\; \\odot \\mathbf{f}_{\\mathrm{sky}})$')\n",
    "plt.plot(x, gp.predict(y, x), linestyle='none', color='#e67e22', marker='.', ms=2, label=None)\n",
    "\n",
    "plt.plot(x, y*0-999, color='#e67e22', label='Systematic bias')\n",
    "#plt.plot(x, gp.predict(y_noise, x), linestyle='none', color='#95a5a6', marker='.', ms=2, label='IID')\n",
    "plt.scatter(residual.wavelength.value[full_mask], residual_in_sigma[full_mask], \n",
    "         marker='o', s=29, ec='k', c='#f1c40f', zorder=10, label='High SNR Emission Line Pixels')\n",
    "plt.axhline(0.0, color='k', linestyle='dashed')\n",
    "plt.ylim(-5, 5)\n",
    "plt.legend(ncol=3)\n",
    "plt.xlabel('$\\lambda \\; (\\AA)$')\n",
    "plt.ylabel('Residual $(\\sigma)$')\n",
    "#plt.savefig('../../paper/data_analysis_I/figures/Scaled_sky_residual_trend.png', dpi=300, bbox_inches='tight')"
   ]
  },
  {
   "cell_type": "markdown",
   "id": "90eb65c7",
   "metadata": {},
   "source": [
    "We see minor systematic trends with an amplitude of about <0.5 sigma, large enough to bloat the realized RMS from its expected value of $\\sqrt{1^2 + 0.93^2}$."
   ]
  },
  {
   "cell_type": "markdown",
   "id": "57c81e36",
   "metadata": {},
   "source": [
    "We can make a histogram to quantify the bloating scale."
   ]
  },
  {
   "cell_type": "code",
   "execution_count": null,
   "id": "7be95307",
   "metadata": {},
   "outputs": [],
   "source": [
    "bins = np.arange(-15, 15, 0.2)\n",
    "\n",
    "standard_normal = norm(loc=0, scale=1).pdf(bins)\n",
    "refined_uncertainty = norm(loc=0.1, scale=1.3).pdf(bins)"
   ]
  },
  {
   "cell_type": "code",
   "execution_count": null,
   "id": "db1de4c1",
   "metadata": {},
   "outputs": [],
   "source": [
    "plt.hist(residual_in_sigma, bins=bins, density=True, label=r'Residual ($\\mathbf{f}_{\\star} - \\mathbf{\\beta} \\; \\odot \\mathbf{f}_{\\mathrm{sky}})$');\n",
    "plt.plot(bins, standard_normal, lw=3,\n",
    "         label='Standard normal (Expected with accurate uncertainties)');\n",
    "plt.plot(bins, refined_uncertainty, lw=2, color='k',\n",
    "         label='Observed: $\\hat\\sigma = 1.30\\sigma_{\\mathrm{G}} \\quad \\hat\\mu = 0.1\\sigma_{\\mathrm{G}}$');\n",
    "plt.xlabel('Residual ($\\sigma_{\\mathrm{G}}$)')\n",
    "\n",
    "plt.hist(gp.predict(y, x), bins=bins, density=True, label='Systematic Bias');\n",
    "\n",
    "plt.yscale('log')\n",
    "plt.ylim(1e-4, 1e3)\n",
    "plt.xlim(-6, 6)\n",
    "plt.legend(loc='best')\n",
    "#plt.savefig('../../paper/data_analysis_I/figures/Scaled_sky_residual_uncertainty.png', dpi=300, bbox_inches='tight')"
   ]
  },
  {
   "cell_type": "markdown",
   "id": "4de69de6",
   "metadata": {},
   "source": [
    "We see find a realized uncertainty of $1.3\\times$ the expected value, in other words Goldilocks underestimates the uncertainty by 1.3x, attributable to this systematic bias trend.  I get the same trend if I use a scalar ($\\bar \\beta=0.93$) prefactor to the sky fiber, so I know I am not injecting this signal artificially from the twilight flats. All things considered, this systematic bias is pretty tiny and immaterial for most scientific applications."
   ]
  }
 ],
 "metadata": {
  "kernelspec": {
   "display_name": "Python 3 (ipykernel)",
   "language": "python",
   "name": "python3"
  },
  "language_info": {
   "codemirror_mode": {
    "name": "ipython",
    "version": 3
   },
   "file_extension": ".py",
   "mimetype": "text/x-python",
   "name": "python",
   "nbconvert_exporter": "python",
   "pygments_lexer": "ipython3",
   "version": "3.8.10"
  }
 },
 "nbformat": 4,
 "nbformat_minor": 5
}
