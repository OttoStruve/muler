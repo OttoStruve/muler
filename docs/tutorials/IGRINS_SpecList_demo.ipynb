{
 "cells": [
  {
   "cell_type": "markdown",
   "metadata": {},
   "source": [
    "# Advanced Spectrum List Patterns and Workarounds\n",
    "\n",
    "`muler` is built on specutils, which has many spectrum list operations, but not everything we'd ideally want.  In this notebook, we introduce a few workarounds to deal with common patterns."
   ]
  },
  {
   "cell_type": "code",
   "execution_count": 1,
   "metadata": {},
   "outputs": [],
   "source": [
    "%config Completer.use_jedi = False"
   ]
  },
  {
   "cell_type": "code",
   "execution_count": 2,
   "metadata": {},
   "outputs": [],
   "source": [
    "from muler.igrins import IGRINSSpectrum, IGRINSSpectrumList\n",
    "from specutils import Spectrum1D, SpectrumList\n",
    "import numpy as np\n",
    "import matplotlib.pyplot as plt\n",
    "import astropy.units as u\n",
    "%matplotlib inline\n",
    "%config InlineBackend.figure_format='retina'"
   ]
  },
  {
   "cell_type": "markdown",
   "metadata": {},
   "source": [
    "Simply tell the IGRINS Spectrum where your file is located."
   ]
  },
  {
   "cell_type": "code",
   "execution_count": 3,
   "metadata": {},
   "outputs": [],
   "source": [
    "path = 'https://github.com/OttoStruve/muler_example_data/raw/main/IGRINS/01_IGRINS_test_data/'\n",
    "filename1='SDCH_20201202_0059.spec_a0v.fits'\n",
    "full_path = path + filename1"
   ]
  },
  {
   "cell_type": "code",
   "execution_count": 4,
   "metadata": {},
   "outputs": [],
   "source": [
    "#spec_list = IGRINSSpectrumList.read(full_path).normalize()"
   ]
  },
  {
   "cell_type": "code",
   "execution_count": 11,
   "metadata": {},
   "outputs": [
    {
     "name": "stderr",
     "output_type": "stream",
     "text": [
      "The spectrum metadata appears to be missing.  The functionality of muler may be impaired without metadata.  See discussion at https://github.com/OttoStruve/muler/issues/79.\n"
     ]
    }
   ],
   "source": [
    "spec = IGRINSSpectrum(file=full_path)\n",
    "\n",
    "wavelength = spec.wavelength\n",
    "flux = spec.flux\n",
    "\n",
    "roundtrip_spec = IGRINSSpectrum(spectral_axis=wavelength, flux=flux)"
   ]
  },
  {
   "cell_type": "code",
   "execution_count": 12,
   "metadata": {},
   "outputs": [
    {
     "name": "stderr",
     "output_type": "stream",
     "text": [
      "The spectrum metadata appears to be missing.  The functionality of muler may be impaired without metadata.  See discussion at https://github.com/OttoStruve/muler/issues/79.\n"
     ]
    },
    {
     "data": {
      "text/plain": [
       "<Spectrum1D(flux=<Quantity [       nan, 6.08261594, 9.37395966, ...,        nan,        nan,\n",
       "                  nan]>, spectral_axis=<SpectralAxis \n",
       "   (observer to target:\n",
       "      radial_velocity=0.0 km / s\n",
       "      redshift=0.0)\n",
       "  [16461.49654964, 16461.62499595, 16461.7534228 , ..., 16692.50318342,\n",
       "   16692.60471502, 16692.70623909] Angstrom>, uncertainty=StdDevUncertainty([       nan, 2.34105076, 6.76584695, ...,        nan,\n",
       "                          nan,        nan]))>"
      ]
     },
     "execution_count": 12,
     "metadata": {},
     "output_type": "execute_result"
    }
   ],
   "source": [
    "spec.normalize()"
   ]
  },
  {
   "cell_type": "code",
   "execution_count": null,
   "metadata": {},
   "outputs": [],
   "source": [
    "spec_list.remove_nans().trim_edges().normalize(order_index=15).plot(color=None, ylo=0, yhi=1.5);"
   ]
  },
  {
   "cell_type": "markdown",
   "metadata": {},
   "source": [
    "## Unifying H and K bands into a single `IGRINSSpectrumList`"
   ]
  },
  {
   "cell_type": "code",
   "execution_count": null,
   "metadata": {},
   "outputs": [],
   "source": [
    "filename2 = 'SDCK_20201202_0059.spec_a0v.fits'\n",
    "spec_list2 = IGRINSSpectrumList.read(path+filename2).normalize()"
   ]
  },
  {
   "cell_type": "markdown",
   "metadata": {},
   "source": [
    "The `extend()` method works **in-place**, overriding the first argument!  We have to copy the `spec_list` if we want to keep it pristine:"
   ]
  },
  {
   "cell_type": "code",
   "execution_count": null,
   "metadata": {},
   "outputs": [],
   "source": [
    "import copy"
   ]
  },
  {
   "cell_type": "code",
   "execution_count": null,
   "metadata": {},
   "outputs": [],
   "source": [
    "full_H_and_K_spectrum = copy.deepcopy(spec_list)"
   ]
  },
  {
   "cell_type": "code",
   "execution_count": null,
   "metadata": {},
   "outputs": [],
   "source": [
    "full_H_and_K_spectrum.extend(spec_list2)"
   ]
  },
  {
   "cell_type": "code",
   "execution_count": null,
   "metadata": {},
   "outputs": [],
   "source": [
    "len(spec_list), len(spec_list2), len(full_H_and_K_spectrum)"
   ]
  },
  {
   "cell_type": "code",
   "execution_count": null,
   "metadata": {},
   "outputs": [],
   "source": [
    "full_H_and_K_spectrum.remove_nans().trim_edges().flatten().plot(color=None, ylo=0.8, yhi=1.2);"
   ]
  },
  {
   "cell_type": "markdown",
   "metadata": {},
   "source": [
    "## Workarounds\n",
    "\n",
    "Here we introduce workarounds to three friction points.\n",
    "\n",
    "\n",
    "### Issue 1: Slicing a `IGRINSSpectrumList`\n",
    "\n",
    "First, we want to be able to index into the `IGRINSSpectrumList` in the same way you would with a regular old Python List, and still *get back* an `IGRINSSpectrumList`."
   ]
  },
  {
   "cell_type": "code",
   "execution_count": null,
   "metadata": {},
   "outputs": [],
   "source": [
    "type(spec_list)"
   ]
  },
  {
   "cell_type": "code",
   "execution_count": null,
   "metadata": {},
   "outputs": [],
   "source": [
    "sublist = spec_list[4:7]"
   ]
  },
  {
   "cell_type": "code",
   "execution_count": null,
   "metadata": {},
   "outputs": [],
   "source": [
    "type(sublist)"
   ]
  },
  {
   "cell_type": "markdown",
   "metadata": {},
   "source": [
    "No! We want this sublist to be an `IGRINSSpectrumList`"
   ]
  },
  {
   "cell_type": "code",
   "execution_count": null,
   "metadata": {},
   "outputs": [],
   "source": [
    "sublist_IGRINS = IGRINSSpectrumList(sublist)"
   ]
  },
  {
   "cell_type": "code",
   "execution_count": null,
   "metadata": {},
   "outputs": [],
   "source": [
    "type(sublist_IGRINS)"
   ]
  },
  {
   "cell_type": "markdown",
   "metadata": {},
   "source": [
    "Yay! This workaround achieved our goal."
   ]
  },
  {
   "cell_type": "markdown",
   "metadata": {},
   "source": [
    "### Issue 2: Create an `IGRINSSpectrum` from a bare (`flux`, `wavelength`) array\n",
    "\n",
    "Often we have already preprocessed a spectrum and have it in-hand as a pair of wavelength coordinates and flux values.  We wish to turn this most elemental format of a spectrum into a `IGRINSSpectrum`."
   ]
  },
  {
   "cell_type": "code",
   "execution_count": null,
   "metadata": {},
   "outputs": [],
   "source": [
    "import astropy.units as u"
   ]
  },
  {
   "cell_type": "code",
   "execution_count": null,
   "metadata": {},
   "outputs": [],
   "source": [
    "whole_spectrum = spec_list.remove_nans().trim_edges().normalize().stitch()"
   ]
  },
  {
   "cell_type": "code",
   "execution_count": null,
   "metadata": {},
   "outputs": [],
   "source": [
    "len(whole_spectrum.flux.value)"
   ]
  },
  {
   "cell_type": "code",
   "execution_count": null,
   "metadata": {},
   "outputs": [],
   "source": [
    "wavelength = whole_spectrum.wavelength.value\n",
    "flux = whole_spectrum.flux.value"
   ]
  },
  {
   "cell_type": "markdown",
   "metadata": {},
   "source": [
    "Can we \"round-trip\" this pair of coordinates and flux values back into an `IGRINSSpectrum`?"
   ]
  },
  {
   "cell_type": "code",
   "execution_count": null,
   "metadata": {},
   "outputs": [],
   "source": [
    "roundtrip_spec = IGRINSSpectrum(spectral_axis=wavelength*u.Angstrom, \n",
    "                                flux=flux*u.dimensionless_unscaled, )"
   ]
  },
  {
   "cell_type": "code",
   "execution_count": null,
   "metadata": {},
   "outputs": [],
   "source": [
    "type(roundtrip_spec)"
   ]
  },
  {
   "cell_type": "markdown",
   "metadata": {},
   "source": [
    "Some methods will work out-of-the-box:"
   ]
  },
  {
   "cell_type": "code",
   "execution_count": null,
   "metadata": {},
   "outputs": [],
   "source": [
    "roundtrip_spec.normalize() # works fine!"
   ]
  },
  {
   "cell_type": "markdown",
   "metadata": {},
   "source": [
    "But others do not!"
   ]
  },
  {
   "cell_type": "code",
   "execution_count": null,
   "metadata": {},
   "outputs": [],
   "source": [
    "output = whole_spectrum.barycentric_correct() # works fine!"
   ]
  },
  {
   "cell_type": "markdown",
   "metadata": {},
   "source": [
    "Watch out! This next line will not work!"
   ]
  },
  {
   "cell_type": "code",
   "execution_count": null,
   "metadata": {},
   "outputs": [],
   "source": [
    "force = False\n",
    "\n",
    "if force:\n",
    "    roundtrip_spec.barycentric_correct() # Oops! Will not work!"
   ]
  }
 ],
 "metadata": {
  "kernelspec": {
   "display_name": "Python 3 (ipykernel)",
   "language": "python",
   "name": "python3"
  },
  "language_info": {
   "codemirror_mode": {
    "name": "ipython",
    "version": 3
   },
   "file_extension": ".py",
   "mimetype": "text/x-python",
   "name": "python",
   "nbconvert_exporter": "python",
   "pygments_lexer": "ipython3",
   "version": "3.8.12"
  }
 },
 "nbformat": 4,
 "nbformat_minor": 4
}
