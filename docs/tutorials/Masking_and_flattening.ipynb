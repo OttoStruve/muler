{
 "cells": [
  {
   "cell_type": "markdown",
   "id": "85ece5dc",
   "metadata": {},
   "source": [
    "# Masking and flattening a spectrum\n",
    "\n",
    "Often in high resolution spectroscopy we wish to designate the *continuum*---regions in the spectrum devoid of spectral lines.  The continuum is conspicuous in hot stars, but becomes ill-defined in cool M-dwarfs.  In this tutorial we show how to define the continuum using `muler` and `specutils`."
   ]
  },
  {
   "cell_type": "code",
   "execution_count": null,
   "id": "8b153ffd",
   "metadata": {},
   "outputs": [],
   "source": [
    "from muler.hpf import HPFSpectrum\n",
    "import numpy as np"
   ]
  },
  {
   "cell_type": "code",
   "execution_count": null,
   "id": "5bbfb4b9",
   "metadata": {},
   "outputs": [],
   "source": [
    "import matplotlib.pyplot as plt\n",
    "%config InlineBackend.figure_format='retina'\n",
    "plt.rcParams['axes.facecolor']='white'\n",
    "plt.rcParams['savefig.facecolor']='white'"
   ]
  },
  {
   "cell_type": "code",
   "execution_count": null,
   "id": "6d7c5f95",
   "metadata": {},
   "outputs": [],
   "source": [
    "filename = '../../../muler_example_data/HPF/01_A0V_standards/Goldilocks_20210801T083618_v1.0_0036.spectra.fits'\n",
    "raw_spectrum = HPFSpectrum(file = filename, order=6)"
   ]
  },
  {
   "cell_type": "code",
   "execution_count": null,
   "id": "3c8992a3",
   "metadata": {},
   "outputs": [],
   "source": [
    "spectrum = raw_spectrum.sky_subtract(method='vector').remove_nans().deblaze().normalize()"
   ]
  },
  {
   "cell_type": "code",
   "execution_count": null,
   "id": "44bb6a0d",
   "metadata": {},
   "outputs": [],
   "source": [
    "spectrum.plot(ylo=0);"
   ]
  },
  {
   "cell_type": "markdown",
   "id": "53dbf01c",
   "metadata": {},
   "source": [
    "Look at those conspicuous sharp spectral lines and the smooth dip near 10940 Angstroms.  Let's divide the spectrum by a tuned model."
   ]
  },
  {
   "cell_type": "code",
   "execution_count": null,
   "id": "3293ad94",
   "metadata": {},
   "outputs": [],
   "source": [
    "from gollum.phoenix import PHOENIXSpectrum"
   ]
  },
  {
   "cell_type": "code",
   "execution_count": null,
   "id": "f6176b08",
   "metadata": {},
   "outputs": [],
   "source": [
    "native_template = PHOENIXSpectrum(teff=9600, logg=5.0).normalize()"
   ]
  },
  {
   "cell_type": "code",
   "execution_count": null,
   "id": "46f1812e",
   "metadata": {},
   "outputs": [],
   "source": [
    "doctored_template = native_template\\\n",
    "                        .rotationally_broaden(105.0)\\\n",
    "                        .rv_shift(-40.0)\\\n",
    "                        .resample(spectrum)\\\n",
    "                        .normalize()"
   ]
  },
  {
   "cell_type": "code",
   "execution_count": null,
   "id": "b9da43bc",
   "metadata": {},
   "outputs": [],
   "source": [
    "ax = spectrum.plot(ylo=0, label='A0V Star');\n",
    "doctored_template.plot(ax=ax, label='Doctored A0V Template'); ax.legend();"
   ]
  },
  {
   "cell_type": "code",
   "execution_count": null,
   "id": "258167b2",
   "metadata": {},
   "outputs": [],
   "source": [
    "telluric_response = spectrum / doctored_template"
   ]
  },
  {
   "cell_type": "markdown",
   "id": "24d4d544",
   "metadata": {},
   "source": [
    "Normalize by the top 10th percentile, rather than the median..."
   ]
  },
  {
   "cell_type": "code",
   "execution_count": null,
   "id": "2fc63be3",
   "metadata": {},
   "outputs": [],
   "source": [
    "spectrum_peak = np.percentile(telluric_response.flux, 65)"
   ]
  },
  {
   "cell_type": "code",
   "execution_count": null,
   "id": "f59e9f40",
   "metadata": {},
   "outputs": [],
   "source": [
    "telluric_response = telluric_response.divide(spectrum_peak)"
   ]
  },
  {
   "cell_type": "code",
   "execution_count": null,
   "id": "1bbf06f7",
   "metadata": {},
   "outputs": [],
   "source": [
    "ax = telluric_response.plot(ylo=0);\n",
    "ax.axhline(1.0, color='k', linestyle='dotted');"
   ]
  },
  {
   "cell_type": "markdown",
   "id": "1c106166",
   "metadata": {},
   "source": [
    "The continuum should all hover near $1.0$.  You can see that the spectrum has a slight downward curvature to it, with the blue-most values about $5\\%$ lower than $1.0$, and some red-end values exceeding $1.0$ by 2 percentage points.  \n",
    "\n",
    "Let's mask all the lines, fit a smooth function to the continuum, and then flatten by that function, evaluated at all wavelength points."
   ]
  },
  {
   "cell_type": "markdown",
   "id": "46332e2e",
   "metadata": {},
   "source": [
    "## Masking the lines and fitting the continuum"
   ]
  },
  {
   "cell_type": "code",
   "execution_count": null,
   "id": "b6b06946",
   "metadata": {},
   "outputs": [],
   "source": [
    "import astropy.units as u\n",
    "from specutils import SpectralRegion\n",
    "from specutils.manipulation import extract_region\n",
    "from specutils.fitting import find_lines_derivative, fit_continuum"
   ]
  },
  {
   "cell_type": "code",
   "execution_count": null,
   "id": "553928eb",
   "metadata": {},
   "outputs": [],
   "source": [
    "continuum_subtracted = telluric_response-1.0"
   ]
  },
  {
   "cell_type": "markdown",
   "id": "2b381a2c",
   "metadata": {},
   "source": [
    "Here we find all the absorption lines above some threshold."
   ]
  },
  {
   "cell_type": "code",
   "execution_count": null,
   "id": "5b83d3a2",
   "metadata": {},
   "outputs": [],
   "source": [
    "lines = find_lines_derivative(continuum_subtracted, flux_threshold=0.05)\n",
    "lines = lines[lines['line_type'] == 'absorption']\n",
    "len(lines)"
   ]
  },
  {
   "cell_type": "code",
   "execution_count": null,
   "id": "5b00c3d0",
   "metadata": {},
   "outputs": [],
   "source": [
    "ax = telluric_response.plot(ylo=0);\n",
    "ax.axhline(1.0, color='k', linestyle='dashed');\n",
    "\n",
    "for line in lines:\n",
    "    ax.axvline(line['line_center'].value, linestyle='dotted', color='k', alpha=0.5)"
   ]
  },
  {
   "cell_type": "markdown",
   "id": "154a5e51",
   "metadata": {},
   "source": [
    "Neat, we see that we have found the most conspicuous lines.  Let's mask these lines with a $\\pm1\\;$A width. "
   ]
  },
  {
   "cell_type": "code",
   "execution_count": null,
   "id": "0d26a2b6",
   "metadata": {},
   "outputs": [],
   "source": [
    "line_regions = SpectralRegion.from_line_list(lines, width=2.0*u.Angstrom)"
   ]
  },
  {
   "cell_type": "markdown",
   "id": "b2df67ca",
   "metadata": {},
   "source": [
    "Fit the continuum while excluding the spectral lines."
   ]
  },
  {
   "cell_type": "code",
   "execution_count": null,
   "id": "2443ffe0",
   "metadata": {},
   "outputs": [],
   "source": [
    "%%capture\n",
    "continuum_model = fit_continuum(telluric_response, exclude_regions=line_regions)"
   ]
  },
  {
   "cell_type": "code",
   "execution_count": null,
   "id": "0db8d2b7",
   "metadata": {},
   "outputs": [],
   "source": [
    "continuum_fit = continuum_model(telluric_response.wavelength)\n",
    "continuum_spectrum = HPFSpectrum(flux=continuum_fit, \n",
    "                                 spectral_axis = telluric_response.wavelength)"
   ]
  },
  {
   "cell_type": "code",
   "execution_count": null,
   "id": "aad84d5f",
   "metadata": {},
   "outputs": [],
   "source": [
    "ax=telluric_response.plot(ylo=0, label='Telluric response')\n",
    "ax.axhline(1.0, color='k', linestyle='dashed');\n",
    "continuum_spectrum.plot(ax=ax, label='Continuum fit');\n",
    "ax.legend();"
   ]
  },
  {
   "cell_type": "markdown",
   "id": "a47038ac",
   "metadata": {},
   "source": [
    "Nice!  That looks OK.  You can see that we are fitting to weak telluric lines at 10910 A, which pulls down the fit from 10890.  So it's not perfect."
   ]
  },
  {
   "cell_type": "code",
   "execution_count": null,
   "id": "460333e2",
   "metadata": {},
   "outputs": [],
   "source": [
    "flattened_telluric = telluric_response/continuum_spectrum"
   ]
  },
  {
   "cell_type": "code",
   "execution_count": null,
   "id": "8666674b",
   "metadata": {},
   "outputs": [],
   "source": [
    "ax=flattened_telluric.plot(ylo=0)\n",
    "ax.axhline(1.0, color='k', linestyle='dashed');"
   ]
  },
  {
   "cell_type": "markdown",
   "id": "5784235f",
   "metadata": {},
   "source": [
    "Hooray! We have flattened the continuum! :)  In practice this process takes some more fine-tuning of the model complexity, etc, and one may prefer a strategy of iteratively fitting and masking.  Ideally we would use the GP smoothing technique, which is possible."
   ]
  }
 ],
 "metadata": {
  "kernelspec": {
   "display_name": "Python 3 (ipykernel)",
   "language": "python",
   "name": "python3"
  },
  "language_info": {
   "codemirror_mode": {
    "name": "ipython",
    "version": 3
   },
   "file_extension": ".py",
   "mimetype": "text/x-python",
   "name": "python",
   "nbconvert_exporter": "python",
   "pygments_lexer": "ipython3",
   "version": "3.8.10"
  }
 },
 "nbformat": 4,
 "nbformat_minor": 5
}
