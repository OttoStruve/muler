{
 "cells": [
  {
   "cell_type": "markdown",
   "id": "c2278aa9",
   "metadata": {},
   "source": [
    "# Flattening with a Savitzky-Golay filter\n",
    "\n",
    "*gully*  \n",
    "October 15, 2021\n",
    "\n",
    "In [a previous tutorial](https://muler.readthedocs.io/en/latest/tutorials/Masking_and_flattening_plus.html) we used a pristine telluric template and [advanced Gaussian Process smoothing techniques](https://speakerdeck.com/dfm/an-astronomers-introduction-to-gaussian-processes-v2) to get a refined continuum fit.  The previous tutorials' approaches are probably more precise, but take extra effort of masking in order to obtain the seemingly simple goal of a flattened spectrum.  Often we want a mere quicklook of the flattened spectrum.  Here we demonstrate the new `.flatten()` method, mirrored and abridged from the [lightkurve](http://docs.lightkurve.org) framework."
   ]
  },
  {
   "cell_type": "code",
   "execution_count": null,
   "id": "5602eb97",
   "metadata": {},
   "outputs": [],
   "source": [
    "from muler.hpf import HPFSpectrum\n",
    "%config InlineBackend.figure_format='retina'"
   ]
  },
  {
   "cell_type": "code",
   "execution_count": null,
   "id": "1a6486d6",
   "metadata": {},
   "outputs": [],
   "source": [
    "path = 'https://github.com/OttoStruve/muler_example_data/raw/main/HPF/01_A0V_standards/'\n",
    "filename = 'Goldilocks_20210801T083618_v1.0_0036.spectra.fits'\n",
    "raw_spectrum = HPFSpectrum(file = path + filename, order=6)"
   ]
  },
  {
   "cell_type": "code",
   "execution_count": null,
   "id": "6a167a8d",
   "metadata": {},
   "outputs": [],
   "source": [
    "spectrum = raw_spectrum.sky_subtract(method='vector').remove_nans().deblaze().normalize()"
   ]
  },
  {
   "cell_type": "code",
   "execution_count": null,
   "id": "593634af",
   "metadata": {},
   "outputs": [],
   "source": [
    "flattened_spectrum = spectrum.flatten()"
   ]
  },
  {
   "cell_type": "code",
   "execution_count": null,
   "id": "cb593e61",
   "metadata": {},
   "outputs": [],
   "source": [
    "ax = spectrum.plot(label='Original');\n",
    "flattened_spectrum.plot(ax=ax, label='Flattened');\n",
    "ax.legend();"
   ]
  },
  {
   "cell_type": "markdown",
   "id": "82636405",
   "metadata": {},
   "source": [
    "And voilà!  We have a coarsely flattened spectrum without all the effort of manually masking lines.  You can see an artifact at $\\lambda = 8860\\;Å$.  You can tune the flatten method with some of its keyword argments:"
   ]
  },
  {
   "cell_type": "code",
   "execution_count": null,
   "id": "9f5a4179",
   "metadata": {},
   "outputs": [],
   "source": [
    "spectrum.flatten(window_length=61).plot();"
   ]
  },
  {
   "cell_type": "markdown",
   "id": "04beb380",
   "metadata": {},
   "source": [
    "That's better! :)  You can see some [ringing artifacts](https://en.wikipedia.org/wiki/Ringing_artifacts) near the window size of 61 pixels.  It's useful to inspect the trend by using the `return_trend=True` *kwarg*, which will return two spectra: the flattened spectrum and the fitted trend spectrum."
   ]
  },
  {
   "cell_type": "code",
   "execution_count": null,
   "id": "4c0a476f",
   "metadata": {},
   "outputs": [],
   "source": [
    "flattened_spectrum, trend = spectrum.flatten(window_length=81, niters=13, sigma=3.5, return_trend=True)"
   ]
  },
  {
   "cell_type": "code",
   "execution_count": null,
   "id": "542aef71",
   "metadata": {},
   "outputs": [],
   "source": [
    "ax = spectrum.plot(label='Original Spectrum')\n",
    "trend.plot(ax=ax, label='Continuum trend')\n",
    "ax.legend();"
   ]
  },
  {
   "cell_type": "markdown",
   "id": "58fc4305",
   "metadata": {},
   "source": [
    "You can see some signal self-substraction in the line at $\\lambda =  8860\\;Å$, and the continuum fit drives through weak lines near 8785 Å.  We recommend dividing out the known A0V template spectrum as we did in the previous tutorials.  There's also a way to hand-in a `mask=` *kwarg* to preserve features you want to keep like telluric lines in this case."
   ]
  }
 ],
 "metadata": {
  "kernelspec": {
   "display_name": "Python 3 (ipykernel)",
   "language": "python",
   "name": "python3"
  },
  "language_info": {
   "codemirror_mode": {
    "name": "ipython",
    "version": 3
   },
   "file_extension": ".py",
   "mimetype": "text/x-python",
   "name": "python",
   "nbconvert_exporter": "python",
   "pygments_lexer": "ipython3",
   "version": "3.8.12"
  }
 },
 "nbformat": 4,
 "nbformat_minor": 5
}
