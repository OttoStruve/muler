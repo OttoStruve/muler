{
 "cells": [
  {
   "cell_type": "markdown",
   "id": "c2278aa9",
   "metadata": {},
   "source": [
    "# Masking and flattening HPF data with `TelFit` and Gaussian Processes\n",
    "\n",
    "*gully*  \n",
    "October 14, 2021\n",
    "\n",
    "In [a previous tutorial](https://muler.readthedocs.io/en/latest/tutorials/Masking_and_flattening.html) we masked spectral lines and coarsely flattened the spectrum.  That approach was only able to identify the strongest telluric lines and therefore caused some residual weak telluric lines to distort the inferred continuum shape.  Also the third order polynomial was not flexible enough to account for high-frequency ringing artifacts leftover from the A0V's deep Hydrogen lines.\n",
    "\n",
    "In this tutorial we use a pristine telluric template and [advanced Gaussian Process smoothing techniques](https://speakerdeck.com/dfm/an-astronomers-introduction-to-gaussian-processes-v2) to get an even more refined continuum fit."
   ]
  },
  {
   "cell_type": "code",
   "execution_count": null,
   "id": "5602eb97",
   "metadata": {},
   "outputs": [],
   "source": [
    "from muler.hpf import HPFSpectrum\n",
    "from gollum.phoenix import PHOENIXSpectrum\n",
    "import astropy.units as u\n",
    "import numpy as np"
   ]
  },
  {
   "cell_type": "code",
   "execution_count": null,
   "id": "cfc94c58",
   "metadata": {},
   "outputs": [],
   "source": [
    "import matplotlib.pyplot as plt\n",
    "%config InlineBackend.figure_format='retina'"
   ]
  },
  {
   "cell_type": "markdown",
   "id": "c9dced9c",
   "metadata": {},
   "source": [
    "We'll conduct the same steps as we did in [our previous tutorial on masking](https://muler.readthedocs.io/en/latest/tutorials/Masking_and_flattening.html)."
   ]
  },
  {
   "cell_type": "code",
   "execution_count": null,
   "id": "1a6486d6",
   "metadata": {},
   "outputs": [],
   "source": [
    "path = 'https://github.com/OttoStruve/muler_example_data/raw/main/HPF/01_A0V_standards/'\n",
    "filename = 'Goldilocks_20210801T083618_v1.0_0036.spectra.fits'\n",
    "raw_spectrum = HPFSpectrum(file = path+filename, order=6)"
   ]
  },
  {
   "cell_type": "code",
   "execution_count": null,
   "id": "6a167a8d",
   "metadata": {},
   "outputs": [],
   "source": [
    "spectrum = raw_spectrum.sky_subtract(method='vector').remove_nans().deblaze().normalize()"
   ]
  },
  {
   "cell_type": "code",
   "execution_count": null,
   "id": "90bea2f1",
   "metadata": {},
   "outputs": [],
   "source": [
    "native_template = PHOENIXSpectrum(teff=9600, logg=5.0).normalize()"
   ]
  },
  {
   "cell_type": "code",
   "execution_count": null,
   "id": "85fed9b5",
   "metadata": {},
   "outputs": [],
   "source": [
    "doctored_template = native_template\\\n",
    "                        .rotationally_broaden(105.0, u1=0.3)\\\n",
    "                        .rv_shift(-40.0)\\\n",
    "                        .instrumental_broaden(resolving_power=55_000)\\\n",
    "                        .resample(spectrum)\\\n",
    "                        .normalize()"
   ]
  },
  {
   "cell_type": "code",
   "execution_count": null,
   "id": "3a9d5b00",
   "metadata": {},
   "outputs": [],
   "source": [
    "ax = spectrum.plot(ylo=0, label='A0V Star');\n",
    "doctored_template.plot(ax=ax, label='Doctored A0V Template'); ax.legend();"
   ]
  },
  {
   "cell_type": "code",
   "execution_count": null,
   "id": "479f7f32",
   "metadata": {},
   "outputs": [],
   "source": [
    "telluric_response = spectrum.divide(doctored_template, handle_meta='ff')"
   ]
  },
  {
   "cell_type": "markdown",
   "id": "787a982d",
   "metadata": {},
   "source": [
    "Normalize by the top 5$^{th}$ percentile, rather than the median."
   ]
  },
  {
   "cell_type": "code",
   "execution_count": null,
   "id": "eab18091",
   "metadata": {},
   "outputs": [],
   "source": [
    "spectrum_peak = np.percentile(telluric_response.flux, 95)"
   ]
  },
  {
   "cell_type": "code",
   "execution_count": null,
   "id": "ab227c02",
   "metadata": {},
   "outputs": [],
   "source": [
    "telluric_response = telluric_response.divide(spectrum_peak, handle_meta='ff')"
   ]
  },
  {
   "cell_type": "markdown",
   "id": "9ba3fc67",
   "metadata": {},
   "source": [
    "## Masking the lines with a template"
   ]
  },
  {
   "cell_type": "markdown",
   "id": "2497b5c9",
   "metadata": {},
   "source": [
    "`muler` now packages a static telluric template with its source code.  The template is not tunable and is inadequate for directly dividing out the telluric absorption.  Instead, we use this template for a coarse estimate of which spectral regions are likely to have the most severe telluric absorption."
   ]
  },
  {
   "cell_type": "code",
   "execution_count": null,
   "id": "ecf856a2",
   "metadata": {},
   "outputs": [],
   "source": [
    "telfit_template = telluric_response.get_static_TelFit_template()"
   ]
  },
  {
   "cell_type": "code",
   "execution_count": null,
   "id": "871f899f",
   "metadata": {},
   "outputs": [],
   "source": [
    "ax = telfit_template.plot(ylo=0.98, yhi=1.005)\n",
    "ax.set_xlim(telluric_response.wavelength.value.min(), \n",
    "            telluric_response.wavelength.value.max());\n",
    "ax.axhline(0.999, linestyle='dashed', color='salmon', label='$99.9\\%$ Threshold');\n",
    "plt.title('TelFit template')\n",
    "ax.legend();"
   ]
  },
  {
   "cell_type": "markdown",
   "id": "53e00717",
   "metadata": {},
   "source": [
    "In the next cell we will mask the pixels in our telluric response spectrum that TelFit would expect to have greater than 0.1% telluric absorption.  You can tune the threshold to a higher or lower number depending on your needs.  The `dilation=N` parameter also masks $N$ adjacent pixels and accounts for the possibility of wavelength miscalibration in the data or model."
   ]
  },
  {
   "cell_type": "code",
   "execution_count": null,
   "id": "de534e96",
   "metadata": {},
   "outputs": [],
   "source": [
    "continuum = telluric_response.mask_tellurics(threshold=0.999, dilation=7)"
   ]
  },
  {
   "cell_type": "code",
   "execution_count": null,
   "id": "cd21e254",
   "metadata": {},
   "outputs": [],
   "source": [
    "smoothed_continuum, gp_model = continuum.smooth_spectrum(return_model=True)"
   ]
  },
  {
   "cell_type": "code",
   "execution_count": null,
   "id": "ae5c5b0f",
   "metadata": {},
   "outputs": [],
   "source": [
    "inferred_continuum_flux = gp_model(telluric_response.wavelength.value)"
   ]
  },
  {
   "cell_type": "code",
   "execution_count": null,
   "id": "61853958",
   "metadata": {},
   "outputs": [],
   "source": [
    "inferred_continuum = telluric_response._copy(flux=inferred_continuum_flux \n",
    "                                            * u.dimensionless_unscaled,\n",
    "                                             uncertainty=None)"
   ]
  },
  {
   "cell_type": "code",
   "execution_count": null,
   "id": "68640927",
   "metadata": {},
   "outputs": [],
   "source": [
    "ax = telluric_response.plot(ylo=0.90, yhi=1.02, alpha=0.3, label='Masked telluric lines');\n",
    "ax.axhline(1.0, color='k', linestyle='dotted');\n",
    "continuum.plot(ax=ax, label='Continuum pixels')\n",
    "inferred_continuum.plot(ax=ax, color='k', label='Inferred continuum')\n",
    "ax.legend();"
   ]
  },
  {
   "cell_type": "markdown",
   "id": "3d556aa6",
   "metadata": {},
   "source": [
    "Neat! That continuum fit looks plausible.  You can see that we missed some telluric lines, such as the one at $\\lambda \\sim 8825$.  But overall it does an OK job. Let's flatten the spectrum by this inferred continuum."
   ]
  },
  {
   "cell_type": "code",
   "execution_count": null,
   "id": "e2ebb14d",
   "metadata": {},
   "outputs": [],
   "source": [
    "flattened_telluric_response = telluric_response.divide(inferred_continuum, handle_meta='ff')"
   ]
  },
  {
   "cell_type": "code",
   "execution_count": null,
   "id": "199cffc8",
   "metadata": {},
   "outputs": [],
   "source": [
    "ax = flattened_telluric_response.plot(ylo=0)\n",
    "ax.axhline(1.0, linestyle='dotted', color='k');"
   ]
  },
  {
   "cell_type": "markdown",
   "id": "32adc123",
   "metadata": {},
   "source": [
    "Nice! Much flatter than before!  The Hydrogen ringing artifacts are gone.  We can now measure precision equivalent widths by summing pixels without having to worry about where to place the continuum.  "
   ]
  },
  {
   "cell_type": "code",
   "execution_count": null,
   "id": "7e09cbd3",
   "metadata": {},
   "outputs": [],
   "source": [
    "ax = flattened_telluric_response.plot(ylo=0.90, yhi=1.02)\n",
    "ax.axhline(1.0, linestyle='dotted', color='k');"
   ]
  },
  {
   "cell_type": "markdown",
   "id": "34f6e9be",
   "metadata": {},
   "source": [
    "### Limitations \n",
    "\n",
    "The GP smoothing process is inherently an inference procedure, and may cause some undetermined amount of self-subtraction or artifical boosting.  An even-more-precise approach could be to fit directly for the lines with their real line shapes, based on measured or inferred atmospheric conditions at the time of the measurement.  TelFit and other frameworks offer such methods for telluric lines, and spectral synthesis for stars is also possible."
   ]
  }
 ],
 "metadata": {
  "kernelspec": {
   "display_name": "Python 3 (ipykernel)",
   "language": "python",
   "name": "python3"
  },
  "language_info": {
   "codemirror_mode": {
    "name": "ipython",
    "version": 3
   },
   "file_extension": ".py",
   "mimetype": "text/x-python",
   "name": "python",
   "nbconvert_exporter": "python",
   "pygments_lexer": "ipython3",
   "version": "3.8.10"
  }
 },
 "nbformat": 4,
 "nbformat_minor": 5
}
