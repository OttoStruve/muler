{
 "cells": [
  {
   "cell_type": "markdown",
   "id": "c3178c23",
   "metadata": {},
   "source": [
    "## Deblazing HPF spectra\n",
    "\n",
    "THe blaze function is a conspicuous feature of echelle spectrographs, a large upside down `U` shape enveloping the raw 1D echelle orders.  The process of removing this instrumental artifact is deblazing, and we have mentioned it in previous tutorials.  Here we show a new technique to deblazing based on calibration templates that are now built into `muler` automatically.  This deblazing process is imperfect, but adequate for many purposes."
   ]
  },
  {
   "cell_type": "code",
   "execution_count": null,
   "id": "18d434f2",
   "metadata": {},
   "outputs": [],
   "source": [
    "%config InlineBackend.figure_format='retina'\n",
    "from muler.hpf import HPFSpectrumList"
   ]
  },
  {
   "cell_type": "code",
   "execution_count": null,
   "id": "3ec7dbad",
   "metadata": {},
   "outputs": [],
   "source": [
    "path = 'https://github.com/OttoStruve/muler_example_data/raw/main/HPF/01_A0V_standards/'\n",
    "filename = 'Goldilocks_20210212T072837_v1.0_0037.spectra.fits'\n",
    "spectra = HPFSpectrumList.read(path+filename)"
   ]
  },
  {
   "cell_type": "code",
   "execution_count": null,
   "id": "4e2a4670",
   "metadata": {},
   "outputs": [],
   "source": [
    "spectra.normalize().plot(ylo=0, yhi=4);"
   ]
  },
  {
   "cell_type": "markdown",
   "id": "0c3ce123",
   "metadata": {},
   "source": [
    "We see the conspicuous blaze pattern in each spectra order.  Let's apply a correction to one of those orders:"
   ]
  },
  {
   "cell_type": "code",
   "execution_count": null,
   "id": "be170bf5",
   "metadata": {},
   "outputs": [],
   "source": [
    "spectrum = spectra[15]\n",
    "new_spectrum = spectrum.deblaze()"
   ]
  },
  {
   "cell_type": "code",
   "execution_count": null,
   "id": "b7d6f03d",
   "metadata": {},
   "outputs": [],
   "source": [
    "ax = spectrum.normalize().plot(ylo=0, yhi=1.5, label='observed')\n",
    "new_spectrum.normalize().plot(ax=ax, label='deblazed');\n",
    "ax.legend();"
   ]
  },
  {
   "cell_type": "markdown",
   "id": "30d67a3c",
   "metadata": {},
   "source": [
    "Nice!  We see that the plunging edges have come closer to the a nearly flat native spectral tilt of a stellar spectrum (with some telluric absorption features still present).  Since the deblazing step is spectrally smooth, it does not add any noise.  The entire spectrum of this A0V star will have both telluric lines and broad Hydrogen lines.  The deblazing correction is known to be coarse, with the most conspicuous imperfections near 1150 - 1210 nm."
   ]
  },
  {
   "cell_type": "code",
   "execution_count": null,
   "id": "22823c04",
   "metadata": {},
   "outputs": [],
   "source": [
    "ax = spectra.deblaze().normalize().plot(ylo=0, yhi=1.5);"
   ]
  },
  {
   "cell_type": "markdown",
   "id": "3a3b9074",
   "metadata": {},
   "source": [
    "This pattern will look familiar to most infrared astronomers: a Rayleigh-Jeans tail, atmospheric windows, and Hydrogen lines.    \n",
    "We can flatten by a black body:"
   ]
  },
  {
   "cell_type": "code",
   "execution_count": null,
   "id": "5f2b170f",
   "metadata": {},
   "outputs": [],
   "source": [
    "refined = spectra.deblaze().normalize().flatten_by_black_body(10_000).trim_edges((5, 2043))\n",
    "ax = refined.plot(ylo=0, yhi=1.5);\n",
    "ax.axhline(1.0, color='k', linestyle='dashed');"
   ]
  },
  {
   "cell_type": "markdown",
   "id": "f50c371f",
   "metadata": {},
   "source": [
    "Looks good!"
   ]
  }
 ],
 "metadata": {
  "kernelspec": {
   "display_name": "Python 3 (ipykernel)",
   "language": "python",
   "name": "python3"
  },
  "language_info": {
   "codemirror_mode": {
    "name": "ipython",
    "version": 3
   },
   "file_extension": ".py",
   "mimetype": "text/x-python",
   "name": "python",
   "nbconvert_exporter": "python",
   "pygments_lexer": "ipython3",
   "version": "3.8.10"
  }
 },
 "nbformat": 4,
 "nbformat_minor": 5
}
