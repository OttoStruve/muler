{
 "cells": [
  {
   "cell_type": "markdown",
   "metadata": {},
   "source": [
    "# Working with data from the HPF Spectrograph\n",
    "\n",
    "by Michael Gully-Santiago & Jessica Luna\n",
    "\n",
    "`muler` has new *beta support* for the [Habitable Zone Planet Finder Spectrograph](https://hpf.psu.edu/) (HPF).  In this tutorial we show the basic usage of how to read, process, and plot data from HPF.  We currently support data from either the Goldilocks pipeline or HPF Instrument Team pipeline."
   ]
  },
  {
   "cell_type": "code",
   "execution_count": null,
   "metadata": {},
   "outputs": [],
   "source": [
    "from muler.hpf import HPFSpectrum, HPFSpectrumList\n",
    "import numpy as np\n",
    "import glob\n",
    "\n",
    "%config InlineBackend.figure_format='retina'"
   ]
  },
  {
   "cell_type": "markdown",
   "metadata": {},
   "source": [
    "Here we have Goldilocks spectra:"
   ]
  },
  {
   "cell_type": "code",
   "execution_count": null,
   "metadata": {},
   "outputs": [],
   "source": [
    "path = 'https://github.com/OttoStruve/muler_example_data/raw/main/HPF/01_A0V_standards/'\n",
    "filename = 'Goldilocks_20210212T072837_v1.0_0037.spectra.fits'"
   ]
  },
  {
   "cell_type": "markdown",
   "metadata": {},
   "source": [
    "We can easily read in HPF data for a specific spectral order:"
   ]
  },
  {
   "cell_type": "code",
   "execution_count": null,
   "metadata": {},
   "outputs": [],
   "source": [
    "original_spectrum = HPFSpectrum(file=path+filename, order=15)"
   ]
  },
  {
   "cell_type": "code",
   "execution_count": null,
   "metadata": {},
   "outputs": [],
   "source": [
    "original_spectrum.sky"
   ]
  },
  {
   "cell_type": "markdown",
   "metadata": {},
   "source": [
    "The spectrum has physical units:"
   ]
  },
  {
   "cell_type": "code",
   "execution_count": null,
   "metadata": {},
   "outputs": [],
   "source": [
    "original_spectrum.wavelength # \"Angstroms\""
   ]
  },
  {
   "cell_type": "code",
   "execution_count": null,
   "metadata": {},
   "outputs": [],
   "source": [
    "original_spectrum.flux.unit # \"counts\""
   ]
  },
  {
   "cell_type": "code",
   "execution_count": null,
   "metadata": {},
   "outputs": [],
   "source": [
    "original_spectrum.sky.flux.unit"
   ]
  },
  {
   "cell_type": "markdown",
   "metadata": {},
   "source": [
    "We can normalize the spectrum, which divides the spectrum by the median value, rendering the flux units *dimensionless*"
   ]
  },
  {
   "cell_type": "code",
   "execution_count": null,
   "metadata": {},
   "outputs": [],
   "source": [
    "spectrum = original_spectrum.normalize()\n",
    "np.nanmedian(spectrum.flux)"
   ]
  },
  {
   "cell_type": "markdown",
   "metadata": {},
   "source": [
    "We can effortlessly subtract the sky emission from the target fiber."
   ]
  },
  {
   "cell_type": "code",
   "execution_count": null,
   "metadata": {},
   "outputs": [],
   "source": [
    "sky_free_spectrum = spectrum.sky_subtract(method='vector')"
   ]
  },
  {
   "cell_type": "markdown",
   "metadata": {},
   "source": [
    "Now we can normalize and overplot plot the observed spectrum, sky subtracted spectrum, and the sky emission itself:"
   ]
  },
  {
   "cell_type": "code",
   "execution_count": null,
   "metadata": {},
   "outputs": [],
   "source": [
    "ax = spectrum.plot(label='Observed spectrum', color='k')\n",
    "spectrum.sky.plot(ax=ax, label='Sky spectrum')\n",
    "sky_free_spectrum.plot(ax=ax, label='Observed - Sky', lw=0.5)\n",
    "ax.legend(ncol=3); ax.set_ylim(0.0, 1.5);"
   ]
  },
  {
   "cell_type": "markdown",
   "metadata": {},
   "source": [
    "Nice! We have a sky subtracted spectrum!  Let's remove the instrumental response function from this sky subtracted spectrum.  The instrumental response is dominated by the characteristic concave-down shape.  This conspicuous parabola-like curve stems from an optical device called an [echelle grating](https://en.wikipedia.org/wiki/Echelle_grating) and its related \"blaze function\".  Accordingly the process of removing this shape is sometimes referred to by the names \"de-blazing\", \"flattening\", or \"normalizing\".  In this tutorial we will stick with the term \"deblaze\"."
   ]
  },
  {
   "cell_type": "markdown",
   "metadata": {},
   "source": [
    "We first want to remove the `NaN` values at the edges, then apply the spline division:"
   ]
  },
  {
   "cell_type": "code",
   "execution_count": null,
   "metadata": {},
   "outputs": [],
   "source": [
    "deblazed_spectrum = sky_free_spectrum.remove_nans().deblaze()"
   ]
  },
  {
   "cell_type": "code",
   "execution_count": null,
   "metadata": {},
   "outputs": [],
   "source": [
    "ax = deblazed_spectrum.normalize().plot(label='Deblazed')\n",
    "ax.axhline(1.0, linestyle='dashed', color='k')\n",
    "ax.set_ylim(0.5, 1.2); ax.legend();"
   ]
  },
  {
   "cell_type": "markdown",
   "metadata": {},
   "source": [
    "Great!  We have achieved our goal: sky subtracted and deblazed target spectrum ready for analysis.\n",
    "\n",
    "You can see that the spline division is not perfect because some broad line wings can be mistaken as part of the blaze shape.  `muler` has experimental support for a different type of deblazing based on high-fidelity [flat-field](https://en.wikipedia.org/wiki/Flat-field_correction) spectra.  Those experimental techniques currently require ancillary calibration files that are not provided with our git repo.  Check back in for future updates!"
   ]
  }
 ],
 "metadata": {
  "kernelspec": {
   "display_name": "Python 3 (ipykernel)",
   "language": "python",
   "name": "python3"
  },
  "language_info": {
   "codemirror_mode": {
    "name": "ipython",
    "version": 3
   },
   "file_extension": ".py",
   "mimetype": "text/x-python",
   "name": "python",
   "nbconvert_exporter": "python",
   "pygments_lexer": "ipython3",
   "version": "3.8.10"
  }
 },
 "nbformat": 4,
 "nbformat_minor": 4
}
