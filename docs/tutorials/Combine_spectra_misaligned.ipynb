{
 "cells": [
  {
   "cell_type": "markdown",
   "id": "bb750c33",
   "metadata": {},
   "source": [
    "# Combining misaligned spectra, with error propagation\n",
    "\n",
    "*gully*, *Aishwarya*, and *Jessica*\n",
    "November 12-30, 2021\n",
    "\n",
    "In [a previous tutorial](https://muler.readthedocs.io/en/latest/tutorials/Combining_uncertainties_with_specutils.html) we saw how to combine spectra that are aligned.  Here we show a new way to combine misaligned spectra."
   ]
  },
  {
   "cell_type": "code",
   "execution_count": null,
   "id": "c5d06ca8",
   "metadata": {},
   "outputs": [],
   "source": [
    "from muler.hpf import HPFSpectrum\n",
    "import astropy.units as u\n",
    "import numpy as np\n",
    "\n",
    "import matplotlib.pyplot as plt\n",
    "%config InlineBackend.figure_format='retina'"
   ]
  },
  {
   "cell_type": "markdown",
   "id": "efa606ff",
   "metadata": {},
   "source": [
    "We'll conduct the same steps as we did in [our previous tutorial on masking](https://muler.readthedocs.io/en/latest/tutorials/Masking_and_flattening.html)."
   ]
  },
  {
   "cell_type": "code",
   "execution_count": null,
   "id": "d46c248e",
   "metadata": {},
   "outputs": [],
   "source": [
    "path = 'https://github.com/OttoStruve/muler_example_data/raw/main/HPF/01_A0V_standards/'\n",
    "filenames = ['Goldilocks_20210212T072837_v1.0_0037.spectra.fits', \n",
    "             'Goldilocks_20210517T054403_v1.0_0060.spectra.fits',\n",
    "             'Goldilocks_20210801T083618_v1.0_0036.spectra.fits']\n",
    "fns = [path + filename for filename in filenames]"
   ]
  },
  {
   "cell_type": "code",
   "execution_count": null,
   "id": "919fbfc0",
   "metadata": {},
   "outputs": [],
   "source": [
    "n_spectra = len(fns)\n",
    "n_spectra"
   ]
  },
  {
   "cell_type": "code",
   "execution_count": null,
   "id": "a7174e2a",
   "metadata": {},
   "outputs": [],
   "source": [
    "multi_spectra = []\n",
    "for fn in fns:\n",
    "    raw_spectrum = HPFSpectrum(file = fn, order=6)\n",
    "    multi_spectra.append(raw_spectrum)"
   ]
  },
  {
   "cell_type": "code",
   "execution_count": null,
   "id": "91e6bc51",
   "metadata": {},
   "outputs": [],
   "source": [
    "fig, ax = plt.subplots(1, figsize=(10, 5))\n",
    "clean_multi_spec = []\n",
    "for i in range(n_spectra):\n",
    "    clean_spectrum = multi_spectra[i].deblaze()\\\n",
    "        .trim_edges((4, 2042))\\\n",
    "        .normalize()\\\n",
    "        .mask_tellurics()\\\n",
    "        .barycentric_correct()\n",
    "    clean_spectrum.plot(ax, color='k',alpha=0.1) #plot singular spectra\n",
    "    clean_multi_spec.append(clean_spectrum) #save all clean spectra in list"
   ]
  },
  {
   "cell_type": "markdown",
   "id": "f7f59e27",
   "metadata": {},
   "source": [
    "These three spectra come from different objects, so they're not the best example, but they are misaligned, which is the central theme we are trying to illustrate.  Let's use a new `muler` combine method on these spectra just to see how it works.  "
   ]
  },
  {
   "cell_type": "code",
   "execution_count": null,
   "id": "096ba025",
   "metadata": {},
   "outputs": [],
   "source": [
    "from muler.utilities import combine_spectra_misaligned"
   ]
  },
  {
   "cell_type": "code",
   "execution_count": null,
   "id": "02c498cf",
   "metadata": {},
   "outputs": [],
   "source": [
    "combined_spec = combine_spectra_misaligned(clean_multi_spec)"
   ]
  },
  {
   "cell_type": "code",
   "execution_count": null,
   "id": "f994eb0b",
   "metadata": {},
   "outputs": [],
   "source": [
    "clean_spectrum.shape, combined_spec.shape"
   ]
  },
  {
   "cell_type": "markdown",
   "id": "5b294cd2",
   "metadata": {},
   "source": [
    "The combined spectrum may have a different shape than the typical input spectrum.  We recommend explicitly providing where you'd like the combined spectrum to be computed.  This step is optional, but it can be convenient if you have a certain wavelength grid you want to preserve."
   ]
  },
  {
   "cell_type": "code",
   "execution_count": null,
   "id": "095d30bb",
   "metadata": {},
   "outputs": [],
   "source": [
    "pixel_midpoints = multi_spectra[0].wavelength.value"
   ]
  },
  {
   "cell_type": "markdown",
   "id": "6920a428",
   "metadata": {},
   "source": [
    "The uncertainty is determined by computing the sample standard deviation of the mean."
   ]
  },
  {
   "cell_type": "code",
   "execution_count": null,
   "id": "b717ed50",
   "metadata": {},
   "outputs": [],
   "source": [
    "combined_spec_sampled_unc = combine_spectra_misaligned(clean_multi_spec, \n",
    "                                           pixel_midpoints=pixel_midpoints)"
   ]
  },
  {
   "cell_type": "markdown",
   "id": "28fb70ef",
   "metadata": {},
   "source": [
    "The combined spectrum will have the same shape as the pixel midpoints you pass in."
   ]
  },
  {
   "cell_type": "code",
   "execution_count": null,
   "id": "2a0c5f4f",
   "metadata": {},
   "outputs": [],
   "source": [
    "pixel_midpoints.shape, combined_spec_sampled_unc.shape"
   ]
  },
  {
   "cell_type": "markdown",
   "id": "2b74b0f3",
   "metadata": {},
   "source": [
    "You can optionally request to propagate the uncertainties, if your spectra have them:"
   ]
  },
  {
   "cell_type": "code",
   "execution_count": null,
   "id": "3d578756",
   "metadata": {},
   "outputs": [],
   "source": [
    "combined_spec_propagated_unc = combine_spectra_misaligned(clean_multi_spec, \n",
    "                                           pixel_midpoints=pixel_midpoints, \n",
    "                                           propagate_uncertainty=True)"
   ]
  },
  {
   "cell_type": "markdown",
   "id": "93fab377",
   "metadata": {},
   "source": [
    "You can also ask for `propagate_uncertainty='max'` which returns whatever uncertainty is *higher*."
   ]
  },
  {
   "cell_type": "code",
   "execution_count": null,
   "id": "5f55db57",
   "metadata": {},
   "outputs": [],
   "source": [
    "plt.plot(clean_spectrum.wavelength, clean_spectrum.snr, label='Single Spectrum')\n",
    "plt.plot(combined_spec_sampled_unc.wavelength, combined_spec_sampled_unc.snr, label='Combined, Sampled $\\sigma_i$')\n",
    "plt.plot(combined_spec_propagated_unc.wavelength, combined_spec_propagated_unc.snr, label='Combined, Propagated $\\sigma_i$')\n",
    "plt.ylim(0, 1000)\n",
    "plt.ylabel('$S/N$')\n",
    "plt.xlabel('$\\lambda \\;(\\AA)$')\n",
    "plt.title('Signal-to-noise Ratio')\n",
    "plt.legend();"
   ]
  },
  {
   "cell_type": "markdown",
   "id": "0626dd28",
   "metadata": {},
   "source": [
    "All of the usual metadata keywords are preserved:"
   ]
  },
  {
   "cell_type": "code",
   "execution_count": null,
   "id": "b605b418",
   "metadata": {},
   "outputs": [],
   "source": [
    "combined_spec.instrumental_resolution"
   ]
  },
  {
   "cell_type": "code",
   "execution_count": null,
   "id": "b9ccd323",
   "metadata": {},
   "outputs": [],
   "source": [
    "combined_spec.provenance"
   ]
  },
  {
   "cell_type": "code",
   "execution_count": null,
   "id": "0f2166e9",
   "metadata": {},
   "outputs": [],
   "source": [
    "combined_spec.spectrographname"
   ]
  },
  {
   "cell_type": "code",
   "execution_count": null,
   "id": "c2724500",
   "metadata": {},
   "outputs": [],
   "source": [
    "combined_spec.site_name"
   ]
  },
  {
   "cell_type": "markdown",
   "id": "7f14ed28",
   "metadata": {},
   "source": [
    "But watch out since some metadata such as date or target name may be ill-defined for a combined spectrum, or simply not implemented yet."
   ]
  },
  {
   "cell_type": "code",
   "execution_count": null,
   "id": "e2aa1023",
   "metadata": {},
   "outputs": [],
   "source": [
    "combined_spec.astropy_time.isot, clean_spectrum.astropy_time.isot"
   ]
  },
  {
   "cell_type": "markdown",
   "id": "aca3ce14",
   "metadata": {},
   "source": [
    "For example, data acquired on different times and different nights will need a user-defined way to assign a notion of \"time\".  We do not attempt to assign these times.  We also do not yet support accessing the `.sky` reference fiber for `HPF`.  Please file a GitHub Issue if you are interested in support for these features.  \n",
    "\n",
    "This method is probably not suitable for precision radial velocity applications, and in general many applications may wish to preserve the native sampling of their spectra during inference procedures."
   ]
  }
 ],
 "metadata": {
  "kernelspec": {
   "display_name": "Python 3 (ipykernel)",
   "language": "python",
   "name": "python3"
  },
  "language_info": {
   "codemirror_mode": {
    "name": "ipython",
    "version": 3
   },
   "file_extension": ".py",
   "mimetype": "text/x-python",
   "name": "python",
   "nbconvert_exporter": "python",
   "pygments_lexer": "ipython3",
   "version": "3.8.10"
  }
 },
 "nbformat": 4,
 "nbformat_minor": 5
}
